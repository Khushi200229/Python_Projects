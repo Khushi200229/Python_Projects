{
 "cells": [
  {
   "cell_type": "markdown",
   "id": "7e56a7ae-95e3-477d-88c3-b53d8633cf21",
   "metadata": {},
   "source": [
    "# Guess the Number"
   ]
  },
  {
   "cell_type": "code",
   "execution_count": 4,
   "id": "dd7f4df8-2f87-4478-bd8b-fdb7a83683eb",
   "metadata": {},
   "outputs": [
    {
     "name": "stdin",
     "output_type": "stream",
     "text": [
      "Guess the Target or Quit(Q) : 85\n"
     ]
    },
    {
     "name": "stdout",
     "output_type": "stream",
     "text": [
      "Your number was too big, take a smaller guess..\n"
     ]
    },
    {
     "name": "stdin",
     "output_type": "stream",
     "text": [
      "Guess the Target or Quit(Q) : 55\n"
     ]
    },
    {
     "name": "stdout",
     "output_type": "stream",
     "text": [
      "Your number was too big, take a smaller guess..\n"
     ]
    },
    {
     "name": "stdin",
     "output_type": "stream",
     "text": [
      "Guess the Target or Quit(Q) : 45\n"
     ]
    },
    {
     "name": "stdout",
     "output_type": "stream",
     "text": [
      "Your number was too big, take a smaller guess..\n"
     ]
    },
    {
     "name": "stdin",
     "output_type": "stream",
     "text": [
      "Guess the Target or Quit(Q) : 35\n"
     ]
    },
    {
     "name": "stdout",
     "output_type": "stream",
     "text": [
      "Your number was too big, take a smaller guess..\n"
     ]
    },
    {
     "name": "stdin",
     "output_type": "stream",
     "text": [
      "Guess the Target or Quit(Q) : 25\n"
     ]
    },
    {
     "name": "stdout",
     "output_type": "stream",
     "text": [
      "Your number was too big, take a smaller guess..\n"
     ]
    },
    {
     "name": "stdin",
     "output_type": "stream",
     "text": [
      "Guess the Target or Quit(Q) : 15\n"
     ]
    },
    {
     "name": "stdout",
     "output_type": "stream",
     "text": [
      "Your number was too big, take a smaller guess..\n"
     ]
    },
    {
     "name": "stdin",
     "output_type": "stream",
     "text": [
      "Guess the Target or Quit(Q) : 5\n"
     ]
    },
    {
     "name": "stdout",
     "output_type": "stream",
     "text": [
      "Your number was too small, take a bigger guess..\n"
     ]
    },
    {
     "name": "stdin",
     "output_type": "stream",
     "text": [
      "Guess the Target or Quit(Q) : 10\n"
     ]
    },
    {
     "name": "stdout",
     "output_type": "stream",
     "text": [
      "Success: Correct Guess!!\n",
      "-----GAME OVER-----\n"
     ]
    }
   ],
   "source": [
    "import random\n",
    "\n",
    "target = random.randint(1, 100)\n",
    "\n",
    "while True:\n",
    "    userChoice = input(\"Guess the Target or Quit(Q) :\")\n",
    "    if(userChoice ==\"Q\"):\n",
    "        print(\"You quit the game, try next time\")\n",
    "        break\n",
    "\n",
    "    userChoice = int(userChoice)\n",
    "    if(userChoice == target):\n",
    "        print(\"Success: Correct Guess!!\")\n",
    "        break\n",
    "\n",
    "    elif(userChoice < target):\n",
    "        print(\"Your number was too small, take a bigger guess..\")\n",
    "\n",
    "    else:\n",
    "        print(\"Your number was too big, take a smaller guess..\")\n",
    "\n",
    "print(\"-----GAME OVER-----\")"
   ]
  },
  {
   "cell_type": "markdown",
   "id": "22e57858-e58a-4e2f-9ef6-77e76d79708f",
   "metadata": {},
   "source": [
    "# Random Password Generator"
   ]
  },
  {
   "cell_type": "code",
   "execution_count": 10,
   "id": "f00af6dc-4d29-4a2a-915b-36a2a9394632",
   "metadata": {},
   "outputs": [
    {
     "name": "stdout",
     "output_type": "stream",
     "text": [
      "Your random password is: _K{ldk67s#N2\n"
     ]
    }
   ],
   "source": [
    "# 1st Method\n",
    "import random\n",
    "import string # A collection of string constraints\n",
    "\n",
    "# val = random.choice(\"hello\") # for random choice of alphabet\n",
    "# print(val)\n",
    "\n",
    "# print(string.ascii_letters)  # For A-Z, a-z (American Standard Code for Information Interchange)\n",
    "# print(string.digits) # For digits 0-9\n",
    "# print(string.punctuation) # for !\"#$%&'()*+,-./:;<=>?@[\\]^_`{|}~\n",
    "\n",
    "pass_len = 12\n",
    "charValues = string.ascii_letters + string.digits + string.punctuation\n",
    "\n",
    "password = \"\"\n",
    "for i in range(pass_len):\n",
    "    password += random.choice(charValues)\n",
    "\n",
    "print(\"Your random password is:\", password)"
   ]
  },
  {
   "cell_type": "code",
   "execution_count": 15,
   "id": "bcfe6898-efaa-43e4-9ae2-be851d8e4596",
   "metadata": {},
   "outputs": [
    {
     "name": "stdout",
     "output_type": "stream",
     "text": [
      "Your random password is: j\\@mJTEZa#$8\n"
     ]
    }
   ],
   "source": [
    "# 2nd Method\n",
    "import random\n",
    "import string \n",
    "\n",
    "pass_len = 12\n",
    "charValues = string.ascii_letters + string.digits + string.punctuation\n",
    "\n",
    "#list comprehension [function for i in range(n)]\n",
    "\n",
    "# res = [random.choice(charValues) for i in range(pass_len)]\n",
    "\n",
    "# join is used for concatenate any number of strings and we use it by taking empty string if we take anything in \"\" then it also printed\n",
    "# res = \"*\".join([random.choice(charValues) for i in range(pass_len)])\n",
    "password = \"\".join([random.choice(charValues) for i in range(pass_len)])\n",
    "\n",
    "print(\"Your random password is:\", password)"
   ]
  },
  {
   "cell_type": "markdown",
   "id": "4bbeecbd-9ec9-4ddd-9e72-c84daec91db4",
   "metadata": {},
   "source": [
    "## Mini Calculator\n"
   ]
  },
  {
   "cell_type": "code",
   "execution_count": 2,
   "id": "a1c04ea1-9f97-4f7c-8d49-fda84d1389b1",
   "metadata": {},
   "outputs": [
    {
     "name": "stdin",
     "output_type": "stream",
     "text": [
      "Enter first number:  5\n",
      "Enter Operator(+,-,*,/,%,//):  *\n",
      "Enter second number:  10\n"
     ]
    },
    {
     "name": "stdout",
     "output_type": "stream",
     "text": [
      "50\n"
     ]
    }
   ],
   "source": [
    "first = input(\"Enter first number: \")\n",
    "operator = input(\"Enter Operator(+,-,*,/,%,//): \")\n",
    "second = input(\"Enter second number: \")\n",
    "\n",
    "first = int(first)\n",
    "second = int(second)\n",
    "\n",
    "if operator == \"+\":\n",
    "    print(first + second)\n",
    "elif operator == \"-\":\n",
    "    print(first - second)\n",
    "elif operator == \"*\":\n",
    "    print(first * second)\n",
    "elif operator == \"/\":\n",
    "    print(first / second)\n",
    "elif operator == \"%\":\n",
    "    print(first % second)\n",
    "elif operator == \"//\":\n",
    "    print(first // second)\n",
    "else:\n",
    "    print(\"Invalid Operation\")"
   ]
  },
  {
   "cell_type": "code",
   "execution_count": 3,
   "id": "6a436a8d-ac78-4ac0-b511-b4739932700f",
   "metadata": {},
   "outputs": [
    {
     "name": "stdout",
     "output_type": "stream",
     "text": [
      "*\n",
      "**\n",
      "***\n",
      "****\n",
      "*****\n"
     ]
    }
   ],
   "source": [
    "# Star Pattern\n",
    "i = 1\n",
    "while i <= 5:\n",
    "    print(i * \"*\")\n",
    "    i = i + 1"
   ]
  },
  {
   "cell_type": "code",
   "execution_count": 4,
   "id": "3b3ed132-e826-4053-ac33-db0209619f4f",
   "metadata": {},
   "outputs": [
    {
     "name": "stdout",
     "output_type": "stream",
     "text": [
      "*****\n",
      "****\n",
      "***\n",
      "**\n",
      "*\n"
     ]
    }
   ],
   "source": [
    "# Star Pattern\n",
    "i = 5\n",
    "while i >= 1:\n",
    "    print(i * \"*\")\n",
    "    i = i - 1"
   ]
  },
  {
   "cell_type": "code",
   "execution_count": null,
   "id": "dc39a9fc-c0ae-4bff-a026-1cfc47dead23",
   "metadata": {},
   "outputs": [],
   "source": []
  }
 ],
 "metadata": {
  "kernelspec": {
   "display_name": "Python 3 (ipykernel)",
   "language": "python",
   "name": "python3"
  },
  "language_info": {
   "codemirror_mode": {
    "name": "ipython",
    "version": 3
   },
   "file_extension": ".py",
   "mimetype": "text/x-python",
   "name": "python",
   "nbconvert_exporter": "python",
   "pygments_lexer": "ipython3",
   "version": "3.11.5"
  }
 },
 "nbformat": 4,
 "nbformat_minor": 5
}
